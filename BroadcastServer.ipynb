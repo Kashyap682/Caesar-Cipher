{
 "cells": [
  {
   "cell_type": "code",
   "execution_count": 8,
   "id": "26acd7dc",
   "metadata": {},
   "outputs": [],
   "source": [
    "def caesar_cipher(message, shift):\n",
    "    alphabet = \"abcdefghijklmnopqrstuvwxyzABCDEFGHIJKLMNOPQRSTUVWXYZ0123456789\"\n",
    "    encrypted_text = \"\"\n",
    "    for i in message:\n",
    "        if i in alphabet:\n",
    "            new_position = (alphabet.index(i) + shift)\n",
    "            encrypted_text += alphabet[new_position]\n",
    "        else:\n",
    "            encrypted_text += i\n",
    "\n",
    "    return encrypted_text"
   ]
  },
  {
   "cell_type": "code",
   "execution_count": 9,
   "id": "088ec97e",
   "metadata": {},
   "outputs": [
    {
     "name": "stdout",
     "output_type": "stream",
     "text": [
      "Socket successfully created\n",
      "socket binded to 12345\n",
      "socket is listening\n"
     ]
    }
   ],
   "source": [
    "import socket\n",
    "\n",
    "s = socket.socket()         \n",
    "print (\"Socket successfully created\")\n",
    "\n",
    "port = 12345\n",
    "s.bind(('', port))         \n",
    "print (\"socket binded to %s\" %(port)) \n",
    "  \n",
    "s.listen(5)     \n",
    "print (\"socket is listening\") "
   ]
  },
  {
   "cell_type": "code",
   "execution_count": 10,
   "id": "c25d6d0e",
   "metadata": {},
   "outputs": [
    {
     "name": "stdout",
     "output_type": "stream",
     "text": [
      "Got connection from ('127.0.0.1', 50040)\n"
     ]
    }
   ],
   "source": [
    "while True: \n",
    "    c, addr = s.accept()     \n",
    "    print ('Got connection from', addr)\n",
    "    \n",
    "    msg = 'This is an Encrypted Message.'\n",
    "    en_msg = caesar_cipher(msg, 2)\n",
    "    c.send(en_msg.encode()) \n",
    "    c.close()\n",
    "\n",
    "    break"
   ]
  }
 ],
 "metadata": {
  "kernelspec": {
   "display_name": "Python 3 (ipykernel)",
   "language": "python",
   "name": "python3"
  },
  "language_info": {
   "codemirror_mode": {
    "name": "ipython",
    "version": 3
   },
   "file_extension": ".py",
   "mimetype": "text/x-python",
   "name": "python",
   "nbconvert_exporter": "python",
   "pygments_lexer": "ipython3",
   "version": "3.9.16"
  }
 },
 "nbformat": 4,
 "nbformat_minor": 5
}
