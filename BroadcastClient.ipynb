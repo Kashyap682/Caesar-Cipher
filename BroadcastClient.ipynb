{
 "cells": [
  {
   "cell_type": "code",
   "execution_count": 3,
   "id": "475f7b4d",
   "metadata": {},
   "outputs": [],
   "source": [
    "def caesar_cipher(message, shift):\n",
    "  alphabet = \"abcdefghijklmnopqrstuvwxyzABCDEFGHIJKLMNOPQRSTUVWXYZ0123456789\"\n",
    "  encrypted_text = \"\"\n",
    "\n",
    "  for i in message:\n",
    "    if i in alphabet:\n",
    "      new_position = (alphabet.index(i) + shift)\n",
    "      encrypted_text += alphabet[new_position]\n",
    "    else:\n",
    "      encrypted_text += i\n",
    "\n",
    "  return encrypted_text"
   ]
  },
  {
   "cell_type": "code",
   "execution_count": 4,
   "id": "76567d2b",
   "metadata": {},
   "outputs": [
    {
     "name": "stdout",
     "output_type": "stream",
     "text": [
      "This is an Encrypted Message.\n"
     ]
    }
   ],
   "source": [
    "import socket\n",
    "\n",
    "s = socket.socket()\n",
    " \n",
    "port = 12345\n",
    "\n",
    "s.connect(('127.0.0.1', port)) \n",
    "\n",
    "msg = s.recv(1024).decode()\n",
    "dc_msg = caesar_cipher(msg, -2)\n",
    "\n",
    "print(dc_msg)\n",
    "\n",
    "s.close()"
   ]
  }
 ],
 "metadata": {
  "kernelspec": {
   "display_name": "Python 3 (ipykernel)",
   "language": "python",
   "name": "python3"
  },
  "language_info": {
   "codemirror_mode": {
    "name": "ipython",
    "version": 3
   },
   "file_extension": ".py",
   "mimetype": "text/x-python",
   "name": "python",
   "nbconvert_exporter": "python",
   "pygments_lexer": "ipython3",
   "version": "3.9.16"
  }
 },
 "nbformat": 4,
 "nbformat_minor": 5
}
