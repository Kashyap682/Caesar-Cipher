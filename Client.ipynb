{
 "cells": [
  {
   "cell_type": "code",
   "execution_count": 1,
   "id": "53c7df20",
   "metadata": {},
   "outputs": [],
   "source": [
    "import socket\n",
    "import threading\n",
    "\n",
    "SERVER_HOST = '192.168.137.91'\n",
    "SERVER_PORT = 12345"
   ]
  },
  {
   "cell_type": "code",
   "execution_count": 2,
   "id": "aa33118c",
   "metadata": {},
   "outputs": [],
   "source": [
    "def caesar_cipher(message, shift):\n",
    "  alphabet = \"abcdefghijklmnopqrstuvwxyzABCDEFGHIJKLMNOPQRSTUVWXYZ0123456789\"\n",
    "  encrypted_text = \"\"\n",
    "\n",
    "  for i in message:\n",
    "    if i in alphabet:\n",
    "      new_position = (alphabet.index(i) + shift)\n",
    "      encrypted_text += alphabet[new_position]\n",
    "    else:\n",
    "      encrypted_text += i\n",
    "\n",
    "  return encrypted_text\n",
    "\n",
    "def receive_messages(client_socket):\n",
    "    while True:\n",
    "        try:\n",
    "            #print(client_socket)\n",
    "            data = client_socket.recv(1024)\n",
    "            if not data:\n",
    "                print('break')\n",
    "                break\n",
    "                #continue\n",
    "            #print('yeah boi')\n",
    "            #print(data)\n",
    "            message = data.decode('utf-8')\n",
    "            #print(message)\n",
    "            d_message = caesar_cipher(message, -2)\n",
    "            print(d_message)\n",
    "        except:\n",
    "            break\n",
    "            #continue"
   ]
  },
  {
   "cell_type": "code",
   "execution_count": null,
   "id": "be825264",
   "metadata": {},
   "outputs": [
    {
     "name": "stdout",
     "output_type": "stream",
     "text": [
      "Enter name: Kashyap\n",
      "Pruthvi: Hello\n",
      "Me: hi\n",
      "Pruthvi: how are u?\n"
     ]
    }
   ],
   "source": [
    "client_socket = socket.socket(socket.AF_INET, socket.SOCK_STREAM)\n",
    "client_socket.connect((SERVER_HOST, SERVER_PORT))\n",
    "\n",
    "receive_thread = threading.Thread(target=receive_messages, args=(client_socket,))\n",
    "receive_thread.start()\n",
    "\n",
    "name = input('Enter name: ')\n",
    "\n",
    "while True:\n",
    "    message1 = input('Me: ')\n",
    "    message = name + ': ' + message1\n",
    "    client_socket.send(caesar_cipher(message, 2).encode('utf-8'))"
   ]
  },
  {
   "cell_type": "code",
   "execution_count": null,
   "id": "f3d8376c",
   "metadata": {},
   "outputs": [],
   "source": []
  }
 ],
 "metadata": {
  "kernelspec": {
   "display_name": "Python 3 (ipykernel)",
   "language": "python",
   "name": "python3"
  },
  "language_info": {
   "codemirror_mode": {
    "name": "ipython",
    "version": 3
   },
   "file_extension": ".py",
   "mimetype": "text/x-python",
   "name": "python",
   "nbconvert_exporter": "python",
   "pygments_lexer": "ipython3",
   "version": "3.11.5"
  }
 },
 "nbformat": 4,
 "nbformat_minor": 5
}
