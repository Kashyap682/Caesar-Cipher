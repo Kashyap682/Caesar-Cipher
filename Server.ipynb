{
 "cells": [
  {
   "cell_type": "code",
   "execution_count": 1,
   "id": "7f9330ff",
   "metadata": {},
   "outputs": [
    {
     "name": "stdout",
     "output_type": "stream",
     "text": [
      "Server is listening on 192.168.137.91:12345\n"
     ]
    }
   ],
   "source": [
    "import socket\n",
    "import threading\n",
    "\n",
    "HOST = '192.168.137.91'\n",
    "PORT = 12345\n",
    "ADDRESS = (HOST, PORT)\n",
    "MAX_CONNECTIONS = 10\n",
    "BUFFER_SIZE = 1024\n",
    "\n",
    "connected_clients = []\n",
    "\n",
    "server_socket = socket.socket(socket.AF_INET, socket.SOCK_STREAM)\n",
    "server_socket.bind(ADDRESS)\n",
    "server_socket.listen(MAX_CONNECTIONS)\n",
    "print(f\"Server is listening on {HOST}:{PORT}\")"
   ]
  },
  {
   "cell_type": "code",
   "execution_count": 2,
   "id": "c88d3854",
   "metadata": {},
   "outputs": [],
   "source": [
    "def handle_client(client_socket):\n",
    "    while True:\n",
    "        try:\n",
    "            data = client_socket.recv(BUFFER_SIZE)\n",
    "            if not data:\n",
    "                break\n",
    "                #continue\n",
    "            message = data.decode('utf-8')\n",
    "            print(f\"Received: {message}\")\n",
    "\n",
    "            for client in connected_clients:\n",
    "                if client != client_socket:\n",
    "                    #print('hello')\n",
    "                    #print(client_socket)\n",
    "                    #print(data)\n",
    "                    #print(client)\n",
    "                    client.send(data)\n",
    "        except:\n",
    "            break\n",
    "            #continue\n",
    "\n",
    "    connected_clients.remove(client_socket)\n",
    "    client_socket.close()"
   ]
  },
  {
   "cell_type": "code",
   "execution_count": null,
   "id": "a85d7eaf",
   "metadata": {},
   "outputs": [
    {
     "name": "stdout",
     "output_type": "stream",
     "text": [
      "Accepted connection from ('192.168.137.91', 53538)\n",
      "Accepted connection from ('192.168.137.1', 64147)\n",
      "Received: Rtwvjxk: jgnnq\n",
      "Accepted connection from ('192.168.137.91', 53954)\n",
      "Accepted connection from ('192.168.137.1', 64179)\n",
      "Received: Rtwvjxk: Jgnnq\n",
      "Received: McujAcr: jk\n",
      "Received: Rtwvjxk: jqy ctg w?\n"
     ]
    }
   ],
   "source": [
    "while True:\n",
    "    client_socket, client_address = server_socket.accept()\n",
    "    print(f\"Accepted connection from {client_address}\")\n",
    "    connected_clients.append(client_socket)\n",
    "\n",
    "    client_thread = threading.Thread(target=handle_client, args=(client_socket,))\n",
    "    client_thread.start()"
   ]
  },
  {
   "cell_type": "code",
   "execution_count": null,
   "id": "96016fb8",
   "metadata": {},
   "outputs": [],
   "source": []
  }
 ],
 "metadata": {
  "kernelspec": {
   "display_name": "Python 3 (ipykernel)",
   "language": "python",
   "name": "python3"
  },
  "language_info": {
   "codemirror_mode": {
    "name": "ipython",
    "version": 3
   },
   "file_extension": ".py",
   "mimetype": "text/x-python",
   "name": "python",
   "nbconvert_exporter": "python",
   "pygments_lexer": "ipython3",
   "version": "3.11.5"
  }
 },
 "nbformat": 4,
 "nbformat_minor": 5
}
